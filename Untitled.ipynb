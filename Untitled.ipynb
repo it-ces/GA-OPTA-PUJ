{
 "cells": [
  {
   "cell_type": "markdown",
   "id": "f87aa338",
   "metadata": {},
   "source": [
    "# Introduction to deap\n",
    "\n",
    "The code implementation of GA algorithm is this notebook is completely constructed as summary of the reference book:\n",
    " **algortimos genéticos en python** "
   ]
  },
  {
   "cell_type": "markdown",
   "id": "c924231c",
   "metadata": {},
   "source": [
    "# Learning by doing...\n"
   ]
  },
  {
   "cell_type": "markdown",
   "id": "3c644ca9",
   "metadata": {},
   "source": [
    "## Benchmark functions?\n"
   ]
  },
  {
   "cell_type": "code",
   "execution_count": 1,
   "id": "36a815b1",
   "metadata": {},
   "outputs": [],
   "source": [
    "import random\n",
    "import math\n",
    "import numpy as np\n",
    "from deap import base\n",
    "from deap import creator\n",
    "from deap import tools\n",
    "from deap import algorithms\n",
    "import matplotlib.pyplot as plt\n",
    "\n",
    "# Creamos los objetos para definir el problema y el tipo de individuo\n",
    "creator.create(\"FitnessMax\", base.Fitness, weights=(1.0,))\n",
    "creator.create(\"Individual\", list, fitness=creator.FitnessMax)\n",
    "\n",
    "toolbox = base.Toolbox()\n",
    "\n",
    "# Gene generation\n",
    "toolbox.register(\"attr_uniform\", random.uniform, -100, 100)\n",
    "\n",
    "# Individuals and population\n",
    "toolbox.register(\"individual\", tools.initRepeat, creator.Individual, toolbox.attr_uniform,2)\n",
    "toolbox.register(\"population\", tools.initRepeat , list , toolbox.individual, 30)\n",
    "\n",
    "individuo = toolbox.individual()\n",
    "poblacion = toolbox.population()"
   ]
  },
  {
   "cell_type": "markdown",
   "id": "b5a58765",
   "metadata": {},
   "source": [
    "## creator.create()\n"
   ]
  },
  {
   "cell_type": "markdown",
   "id": "0a24eeb4",
   "metadata": {},
   "source": [
    "# Important paramters\n",
    "CXPB-> probability of crossovver\n",
    "MUTPB-> probability of mutation\n",
    "NGEN-> number of generations\n",
    "\n",
    "\n",
    "```python\n",
    "def main():\n",
    "    random.seed(1)\n",
    "    CXPB, MUTPB, NGEN = 0.5, 0.2, 20\n",
    "    pop  = toolbox.population()  # create the initial population\n",
    "    hof  = tools.HallOfFame(1) # keep the better individual in each gestneration\n",
    "    stats = tools.Statistics(lambda ind: ind.fitness.values) #to keep statistics about population in each population\n",
    "    # register statiticals functions of numpy library\n",
    "    stats.register(\"avg\", np.mean)\n",
    "    stats.register(\"std\", np.std)\n",
    "    stats.register(\"min\", np.min)\n",
    "    stats.register(\"max\", np.max)\n",
    "    logbook = tools.Logbook()\n",
    "    pop, logbook  = algorithms.eaSimple(pop, toolbox, cxpb = CXPB, mutpb = MUTPB, \n",
    "                                        ngen = NGEN, stats = stats,\n",
    "                                        hallofffame = hof , verbose = True)\n",
    "    return hof, logbook\n",
    "```\n",
    "*deap* have several implementations GA,  _eaSimple_ is our first and basic algorithm; the parameters are:\n",
    "*population, toolbox,  cxpb, mutpb, ngen, stats halloffame, verboose* and will return us final population and logbook( evolution registry).\n",
    "\n",
    "Execution of the algorithm.\n",
    "\n",
    "```python\n",
    "if __name__ == \"__main__\":\n",
    "    best, log = main()\n",
    "    print(\"The better fitness\" \\%best[0].fitness.values)\n",
    "    print(\"solution\" \\%best[0])\n",
    "```\n",
    "what we can see? (gen) the number of generatios, number of evaluations ( number of  individuals that has been evaluated or has been modified by the operators, remember that are probabilistics operators.)(nevals), mean performance of the population (avg), standard deviation (std) .....\n",
    "\n",
    "GA is stochastic therefore  we need execute it several times:\n",
    "\n",
    "changes:\n",
    "* Increase the population until there is not significant improvements.\n",
    "* Increase the number of generations until the algorithm show convergence.\n",
    "* Change the probability of crossover and mutation.\n",
    "\n",
    "\n",
    "tools.Logbook() store the information as a dictionaries.\n",
    "\n",
    "\n",
    "## plotting the covergence of GA\n",
    "```python\n",
    "def plot(log):\n",
    "    gen = log.select(\"gen\")\n",
    "    fit_mins = log.selec(\"min\")\n",
    "    fit_maxs = log.select(\"max\")\n",
    "    fit_avg = log.select(\"avg\")\n",
    "    fig, ax1 = plt.subplots()\n",
    "    ax1.plot(gen, fit_mins, \"b\")\n",
    "    ax1.plot(gen, fit_maxs, \"r\")\n",
    "    ax1.plot(gen, fit_avg, \"--k\")\n",
    "    ax1.fill_between(gen, fit_mins, fit_maxs,\n",
    "                     where=fit_maxs >= fit_mins, facecolor ='g', alpha = 0.2)\n",
    "    ax1.set_xlabel(\"Generation\")\n",
    "    ax1.set_ylabl(\"Fitness\")\n",
    "    ax1.set_ylim([-10 ,160])\n",
    "    ax1.legend([\"Min\", \"Max\", \"Avg\"], loc=\"lower center\")\n",
    "    plt.grid(True)\n",
    "```\n",
    "    \n",
    "### How implemented it ?\n",
    "\n",
    "```python\n",
    "if __name__ == \"__main__\":\n",
    "    random.seed(1)\n",
    "    betters = list()\n",
    "    for _ in range(20):\n",
    "        best = main()\n",
    "        betters.append(best[0].fitness.values)\n",
    "mean = np.mean(betters)\n",
    "best = max(betters)\n",
    "print(mean, best)\n",
    "plot_evolution(log)\n",
    "```  \n",
    "\n",
    "What should be show the graph ?\n",
    "\n"
   ]
  },
  {
   "cell_type": "markdown",
   "id": "e04ecdb6",
   "metadata": {},
   "source": [
    "# Solve Quadratic function\n",
    "\n",
    "\n",
    "\\begin{equation}\n",
    "f(x) = ax^{2} + b^{x} + c\n",
    "\\end{equation}\n",
    "\n",
    "In a analytical way it  is enough $f'(x^{*}) = 0$.\n",
    "\n",
    "Therefore, $f'(x) = 2ax + b = 0$ getting x, we have $x^{*} = \\frac{-b}{2a}$ the exactly solution."
   ]
  },
  {
   "cell_type": "markdown",
   "id": "8d558d79",
   "metadata": {},
   "source": [
    "## Why gradient descent work?\n",
    "\n",
    "\n",
    "## Partial derivate \n",
    "Is a special case of directional derivattive.\n",
    "\n",
    "\n",
    "This need additional information(derivatives) and its performance is "
   ]
  },
  {
   "cell_type": "code",
   "execution_count": 2,
   "id": "d6988d38",
   "metadata": {},
   "outputs": [
    {
     "name": "stdout",
     "output_type": "stream",
     "text": [
      "348.0\n"
     ]
    },
    {
     "data": {
      "image/png": "[encoded data removed]",
      "text/plain": [
       "<Figure size 432x288 with 1 Axes>"
      ]
     },
     "metadata": {
      "needs_background": "light"
     },
     "output_type": "display_data"
    }
   ],
   "source": [
    "a,b,c = -1, 30, 123\n",
    "\n",
    "domL,domU = 0,30\n",
    "\n",
    "def optimal(a,b):\n",
    "  return -b/(2*a)\n",
    "\n",
    "def fitness(x,a,b,c):\n",
    "  return a*(x**2) + b*x + c\n",
    "y = [fitness(x,a,b,c) for x in np.linspace(domL, domU , 200)]\n",
    "plt.plot(np.linspace(domL, domU, 200), y)\n",
    "\n",
    "plt.axvline(x = optimal(a,b), color = 'red', linestyle='--', ymax =0.96)\n",
    "print(fitness(optimal(a,b),a,b,c))"
   ]
  },
  {
   "cell_type": "code",
   "execution_count": 4,
   "id": "4dbfe58b",
   "metadata": {},
   "outputs": [
    {
     "data": {
      "text/plain": [
       "(14.996365392199024, 37)"
      ]
     },
     "execution_count": 4,
     "metadata": {},
     "output_type": "execute_result"
    }
   ],
   "source": [
    "import numpy as np\n",
    "import matplotlib.pyplot as plt\n",
    "\n",
    "def quadratic(a,b,c,x ):\n",
    "  return a*x**2 + b*x + c\n",
    "\n",
    "# Derivative of the function\n",
    "def Dxquadratic(a,b,x):\n",
    "  return 2*a*x + b\n",
    "\n",
    "def GDS_Quadratic( x0, problem =1, learning_rate=0.0001, iterations_max=99900, error_max = 0.001, a=a,b=b):\n",
    "  gradient = Dxquadratic   # We defined previously\n",
    "  xi = x0\n",
    "  iters = 0\n",
    "  error = 100\n",
    "  while (iters < iterations_max) and (error > error_max):\n",
    "    if problem ==1: \n",
    "        xj = xi - learning_rate *(-1)*gradient(a,b, xi)  # Maximization\n",
    "    else:\n",
    "        xj = xi - learning_rate * gradient(a,b, xi)  #Minimization\n",
    "    error = abs(xi-xj)\n",
    "    xi = xj\n",
    "    iters += 1\n",
    "  return xj,iters\n",
    "GDS_Quadratic(1, learning_rate=0.1) "
   ]
  },
  {
   "cell_type": "code",
   "execution_count": 4,
   "id": "673c826a",
   "metadata": {},
   "outputs": [
    {
     "name": "stdout",
     "output_type": "stream",
     "text": [
      "gen\tnevals\tavg     \tstd    \tmin     \tmax\n",
      "0  \t100   \t-2349.23\t2614.26\t-8347.56\t348\n",
      "1  \t61    \t-290.718\t903.346\t-4578.64\t348\n",
      "2  \t66    \t253.529 \t221.244\t-1433.68\t348\n",
      "3  \t68    \t339.247 \t16.2991\t260.951 \t348\n",
      "4  \t67    \t344.912 \t8.97039\t286.057 \t348\n",
      "5  \t59    \t346.561 \t12.5591\t221.728 \t348\n",
      "6  \t61    \t347.552 \t1.83121\t333.532 \t348\n",
      "7  \t53    \t347.233 \t6.82709\t279.514 \t348\n",
      "8  \t54    \t347.44  \t3.90189\t318.784 \t348\n",
      "9  \t58    \t347.826 \t1.7303 \t330.61  \t348\n",
      "10 \t58    \t347.571 \t4.14473\t306.349 \t348\n",
      "11 \t54    \t347.905 \t0.943829\t338.514 \t348\n",
      "12 \t60    \t347.606 \t3.34424 \t314.703 \t348\n",
      "13 \t63    \t347.996 \t0.0385529\t347.613 \t348\n",
      "14 \t62    \t347.948 \t0.2827   \t345.975 \t348\n",
      "15 \t54    \t347.324 \t5.0523   \t301.492 \t348\n",
      "16 \t69    \t347.989 \t0.0979571\t347.018 \t348\n",
      "17 \t66    \t346.271 \t13.777   \t214.968 \t348\n",
      "18 \t66    \t347.871 \t0.921404 \t339.165 \t348\n",
      "19 \t67    \t347.332 \t6.25396  \t285.221 \t348\n",
      "20 \t50    \t347.405 \t5.84581  \t289.244 \t348\n",
      "The better fitness (348.0,)\n",
      "solution 15.0\n"
     ]
    },
    {
     "name": "stderr",
     "output_type": "stream",
     "text": [
      "/home/ivan/.local/lib/python3.10/site-packages/deap/creator.py:138: RuntimeWarning: A class named 'FitnessMax' has already been created and it will be overwritten. Consider deleting previous creation of that class or rename it.\n",
      "  warnings.warn(\"A class named '{0}' has already been created and it \"\n",
      "/home/ivan/.local/lib/python3.10/site-packages/deap/creator.py:138: RuntimeWarning: A class named 'Individual' has already been created and it will be overwritten. Consider deleting previous creation of that class or rename it.\n",
      "  warnings.warn(\"A class named '{0}' has already been created and it \"\n"
     ]
    }
   ],
   "source": [
    "# deap optimization\n",
    "import random \n",
    "import math \n",
    "import numpy as np\n",
    "from deap import base\n",
    "from deap import creator\n",
    "from deap import tools\n",
    "from deap import algorithms\n",
    "import matplotlib.pyplot as plt\n",
    "\n",
    "# individuals and problem\n",
    "creator.create(\"FitnessMax\", base.Fitness, weights=(1.0,))\n",
    "creator.create(\"Individual\", list, fitness=creator.FitnessMax)\n",
    "\n",
    "# The objective function or fitness function will be quadratic()\n",
    "toolbox = base.Toolbox()\n",
    "#Genes \n",
    "toolbox.register(\"rand09\", np.random.randint, 0, 100)  # this line \n",
    "# individual definition\n",
    "toolbox.register(\"individual\", tools.initRepeat, creator.Individual, toolbox.rand09, 3)\n",
    "# Population\n",
    "toolbox.register(\"Population\", tools.initRepeat, list , toolbox.individual, 100)\n",
    "\n",
    "\n",
    "def listTox(array):\n",
    "    total = 0\n",
    "    for i in range(len(array)):\n",
    "        total = total + (array[i] / (10**i))\n",
    "    return total\n",
    "\n",
    "def quadratic(x):\n",
    "    x = listTox(x)\n",
    "    a,b,c = -1,30,123  # Parameters to assess \n",
    "    res = a*(x**2) + b*x+ c\n",
    "    return res, \n",
    "\n",
    "\n",
    "# Genetic operations\n",
    "toolbox.register(\"evaluate\", quadratic)  # The quadratic function\n",
    "toolbox.register(\"mate\", tools.cxOnePoint)\n",
    "toolbox.register(\"mutate\", tools.mutGaussian, mu=0, sigma=5 , indpb=0.1)\n",
    "toolbox.register(\"select\", tools.selTournament, tournsize = 3)\n",
    "\n",
    "\n",
    "def plot(log):\n",
    "    gen = log.select(\"gen\")\n",
    "    fit_mins = log.selec(\"min\")\n",
    "    fit_maxs = log.select(\"max\")\n",
    "    fit_avg = log.select(\"avg\")\n",
    "    fig, ax1 = plt.subplots()\n",
    "    ax1.plot(gen, fit_mins, \"b\")\n",
    "    ax1.plot(gen, fit_maxs, \"r\")\n",
    "    ax1.plot(gen, fit_avg, \"--k\")\n",
    "    ax1.fill_between(gen, fit_mins, fit_maxs,\n",
    "                     where=fit_maxs >= fit_mins, facecolor ='g', alpha = 0.2)\n",
    "    ax1.set_xlabel(\"Generation\")\n",
    "    ax1.set_ylabl(\"Fitness\")\n",
    "    ax1.set_ylim([-10 ,160])\n",
    "    ax1.legend([\"Min\", \"Max\", \"Avg\"], loc=\"lower center\")\n",
    "    plt.grid(True)\n",
    "\n",
    "\n",
    "def main():\n",
    "    random.seed(1)\n",
    "    CXPB, MUTPB, NGEN = 0.5, 0.2, 20\n",
    "    pop  = toolbox.Population()  # create the initial population\n",
    "    hof  = tools.HallOfFame(1) # keep the better individual in each gestneration\n",
    "    stats = tools.Statistics(lambda ind: ind.fitness.values) #to keep statistics about population in each population\n",
    "    # register statiticals functions of numpy library\n",
    "    stats.register(\"avg\", np.mean)\n",
    "    stats.register(\"std\", np.std)\n",
    "    stats.register(\"min\", np.min)\n",
    "    stats.register(\"max\", np.max)\n",
    "    logbook = tools.Logbook()\n",
    "    pop, logbook  = algorithms.eaSimple(pop, toolbox, cxpb = CXPB, mutpb = MUTPB, \n",
    "                                        ngen = NGEN, stats = stats,\n",
    "                                        halloffame = hof , verbose = True)\n",
    "    return hof, logbook\n",
    "\n",
    "\n",
    "if __name__ == \"__main__\":\n",
    "    best, log = main()\n",
    "    print(\"The better fitness\" ,best[0].fitness.values)\n",
    "    print(\"solution\" , listTox(best[0]))"
   ]
  },
  {
   "cell_type": "markdown",
   "id": "356b995c",
   "metadata": {},
   "source": [
    "# Gradient descent or Genetic?\n",
    "\n",
    "The gradient descent could be stucked in a local point, while genetic have some mechanism to reach  out."
   ]
  },
  {
   "cell_type": "markdown",
   "id": "4e258cee",
   "metadata": {},
   "source": [
    "## TSP modelling\n",
    "\n",
    "\n",
    "Hereforth, $n$ the number of cities, $d_{ij}$ the distance among the city $j$ and $i$. $x_{ij}$ is a binary var,will be $1$ if the path from $i$ to $j$ has been consider, and $0$ in otherwise.\n",
    "\n",
    "\\begin{equation}\n",
    "\\min \\sum_{i=1}^{n} \\sum_{j=1}^{n} d_{ij} x_{ij} \\\\\n",
    "S.t: \\\\\n",
    "\\sum_{j=1}^{n} x_{ij} = 1, \\forall i  \\\\\n",
    "\\sum_{i=1}^{n} x_{ij} = 1, \\forall j\n",
    "\\end{equation}\n",
    "\n",
    "\n",
    "\n",
    "\n",
    "## Ciclo hamiltoniano \n",
    "\n",
    "TSP requiere find the namiltonian cycle of minimun disticance.\n"
   ]
  },
  {
   "cell_type": "markdown",
   "id": "69fa34bc",
   "metadata": {},
   "source": [
    "# Complexity of TSP\n",
    "\n",
    "\n",
    "\n",
    "## Applications of TSP\n",
    "transport, logistic and routing of autonomos vehicles.\n",
    "\n"
   ]
  },
  {
   "cell_type": "markdown",
   "id": "27556702",
   "metadata": {},
   "source": [
    "# The posible solution \n",
    "```python\n",
    "[A,B,C,D] \n",
    "```\n",
    "therefore the distance will be; $d(A,B) + d(B,C) + d(C,D) + d(D,A)$\n",
    "\n",
    "\n",
    "The data was extracted of here; https://simplemaps.com/data/co-cities"
   ]
  },
  {
   "cell_type": "code",
   "execution_count": 5,
   "id": "a0abc43f",
   "metadata": {},
   "outputs": [],
   "source": [
    "import pandas as pd\n",
    "data = pd.read_csv(\"cities.csv\")\n",
    "data = data[data['capital']=='admin'].sample(n=10, random_state=4).reset_index(drop=True)\n",
    "capitals = data['city'].unique()\n",
    "cities_dict = {}\n",
    "for index in data.index:\n",
    "    cities_dict[data.loc[index,'city']] = [data.loc[index, 'lat'] , data.loc[index, 'lng']]"
   ]
  },
  {
   "cell_type": "code",
   "execution_count": 6,
   "id": "ec0aa2cd",
   "metadata": {},
   "outputs": [],
   "source": [
    "# Genetic TSP implementation:\n",
    "import random\n",
    "import json\n",
    "import numpy as np\n",
    "import matplotlib.pyplot as plt\n",
    "from deap import algorithms\n",
    "from deap import creator\n",
    "from deap import base\n",
    "from deap import tools"
   ]
  },
  {
   "cell_type": "code",
   "execution_count": 7,
   "id": "d858ba4f",
   "metadata": {},
   "outputs": [
    {
     "name": "stdout",
     "output_type": "stream",
     "text": [
      "gen\tnevals\tavg    \tstd    \tmin    \tmax    \n",
      "0  \t100   \t61.8257\t6.87643\t44.3461\t73.7989\n",
      "1  \t100   \t51.1625\t4.04307\t43.4313\t61.2367\n",
      "2  \t100   \t45.5594\t2.37202\t36.6613\t51.2928\n",
      "3  \t100   \t41.4613\t2.59711\t36.6613\t46.3621\n",
      "4  \t100   \t37.6923\t1.52116\t36.3319\t42.4333\n",
      "5  \t100   \t36.5296\t0.161396\t36.3319\t36.6613\n",
      "6  \t100   \t36.3286\t0.133531\t35.5103\t36.6613\n",
      "7  \t100   \t36.1676\t0.328629\t35.5103\t36.3319\n",
      "\n",
      " ----------------------------------------------------------------------------------------------------\n",
      "The fitness (36.33188823828526,) and he better path is : \n",
      "\n",
      "['Puerto Carreño' 'Ríohacha' 'Barranquilla' 'Montería' 'Quibdó' 'Popayán'\n",
      " 'Florencia' 'Armenia' 'Yopal' 'Mitú']\n",
      "----------------------------------------------------------------------------------------------------\n"
     ]
    },
    {
     "name": "stderr",
     "output_type": "stream",
     "text": [
      "/home/ivan/.local/lib/python3.10/site-packages/deap/creator.py:138: RuntimeWarning: A class named 'Individual' has already been created and it will be overwritten. Consider deleting previous creation of that class or rename it.\n",
      "  warnings.warn(\"A class named '{0}' has already been created and it \"\n"
     ]
    }
   ],
   "source": [
    "# Fitness function and another neccesary funtcions\n",
    "def distanceF(cityA, cityB):\n",
    "    return ((cityA[0] - cityB[0])**2  + (cityA[1] - cityB[1])**2)**(1/2)\n",
    "\n",
    "# Evaluate a path\n",
    "def eval_tsp(individual):\n",
    "    index_test = individual\n",
    "    path_test = capitals[index_test]\n",
    "    route = distanceF(cities_dict[path_test[0]],  cities_dict[path_test[-1]]) # The first and the last city to complete\n",
    "    for i in range(len(path_test)-1): \n",
    "        route += distanceF(cities_dict[path_test[i]], cities_dict[path_test[i+1]])\n",
    "    return route, # It is important return a tuple\n",
    "\n",
    "\n",
    "IND_SIZE = len(capitals)  # the number of cities to find the closest path\n",
    "\n",
    "# Creating problem and kind of individual:\n",
    "creator.create(\"FitnessMin\", base.Fitness, weights = (-1.0,))\n",
    "creator.create(\"Individual\", list , fitness=creator.FitnessMin)\n",
    "## Toolbox \n",
    "## create the tours or paths..\n",
    "#the strategy is store the list in a list and create indices as individuals or tours.\n",
    "toolbox = base.Toolbox()\n",
    "toolbox.register(\"indices\", random.sample, range(IND_SIZE), IND_SIZE)   # draw k samples without replacement including\n",
    "                                                                        # zero  and excluding N\n",
    "#Given that \"indices\" returns us a complete individual dont need uses init.Repeat otherwise, init.Iterate\n",
    "toolbox.register(\"individual\", tools.initIterate, creator.Individual, toolbox.indices)\n",
    "# two paratermers accep initIterate ( container(Individual) and Func(indices a iterable function))\n",
    "# Create the initial population\n",
    "toolbox.register(\"population\", tools.initRepeat, list, toolbox.individual,100)\n",
    "\n",
    "#Genetic Operators (preserve the names)\n",
    "toolbox.register(\"mate\", tools.cxOrdered)\n",
    "toolbox.register(\"mutate\", tools.mutShuffleIndexes, indpb=0.05)\n",
    "toolbox.register(\"select\", tools.selTournament, tournsize=10)\n",
    "toolbox.register(\"evaluate\", eval_tsp)\n",
    "\n",
    "# The genetic algorithm \n",
    "# MuPlusLambda \n",
    "# This algorithm is more elitist  and requiere more computations.\n",
    "# the main idea is that here paretns ( mu) and child(lambda) compite between them\n",
    "# The paremeters are initial population, toolbox, mu, lambda, cxpb ( probability of crossover)\n",
    "# mutpb (probability of mutation), ngen (number of generations), stats ( registry of functions), halloffame\n",
    "\n",
    "\n",
    "def main():\n",
    "    random.seed(101)\n",
    "    CXPB, MUTPB, NGEN = 0.7, 0.3, 7\n",
    "    pop = toolbox.population()\n",
    "    MU, LAMBDA = len(pop), len(pop)\n",
    "    hof = tools.HallOfFame(1)\n",
    "    stats = tools.Statistics(lambda ind: ind.fitness.values)\n",
    "    stats.register(\"avg\", np.mean)\n",
    "    stats.register(\"std\", np.std)\n",
    "    stats.register(\"min\", np.min)\n",
    "    stats.register(\"max\", np.max)\n",
    "    logbook = tools.Logbook()\n",
    "    pop, logbook = algorithms.eaMuPlusLambda(pop,toolbox, MU, LAMBDA, CXPB, MUTPB, NGEN,\n",
    "                                            stats = stats, halloffame=hof)\n",
    "    return pop, logbook\n",
    "\n",
    "if __name__ == \"__main__\":\n",
    "    best, log  = main()\n",
    "    print(\"\\n\",'--'*50)\n",
    "    print(f\"The fitness {best[0].fitness.values} and he better path is : \\n\",)\n",
    "    print(capitals[best[0]])\n",
    "    print(\"--\"*50)"
   ]
  },
  {
   "cell_type": "markdown",
   "id": "36a6b544",
   "metadata": {},
   "source": [
    "# The real optimal solution"
   ]
  },
  {
   "cell_type": "code",
   "execution_count": 10,
   "id": "ff723265",
   "metadata": {},
   "outputs": [],
   "source": [
    "import itertools\n",
    "paths = list(itertools.permutations(capitals))\n",
    "index, index_aux = 0,0\n",
    "def eval_tsp_brute(paths):\n",
    "    array = []\n",
    "    for path in paths:\n",
    "        route = distanceF(cities_dict[path[0]],cities_dict[path[-1]])\n",
    "        for i in range(len(path)-1):\n",
    "            route = route  +  distanceF(cities_dict[path[i]],cities_dict[path[i+1]])\n",
    "        array.append([route, path])\n",
    "    array.sort(reverse=False, key=lambda x:x[0])\n",
    "    return array[0]"
   ]
  },
  {
   "cell_type": "code",
   "execution_count": 11,
   "id": "f75591bd",
   "metadata": {},
   "outputs": [
    {
     "name": "stdout",
     "output_type": "stream",
     "text": [
      "CPU times: user 1min 16s, sys: 951 ms, total: 1min 17s\n",
      "Wall time: 1min 17s\n"
     ]
    },
    {
     "data": {
      "text/plain": [
       "[34.96071294980095,\n",
       " ('Popayán',\n",
       "  'Armenia',\n",
       "  'Quibdó',\n",
       "  'Montería',\n",
       "  'Barranquilla',\n",
       "  'Ríohacha',\n",
       "  'Yopal',\n",
       "  'Puerto Carreño',\n",
       "  'Mitú',\n",
       "  'Florencia')]"
      ]
     },
     "execution_count": 11,
     "metadata": {},
     "output_type": "execute_result"
    }
   ],
   "source": [
    "%%time\n",
    "eval_tsp_brute(paths)"
   ]
  }
 ],
 "metadata": {
  "kernelspec": {
   "display_name": "Python 3 (ipykernel)",
   "language": "python",
   "name": "python3"
  },
  "language_info": {
   "codemirror_mode": {
    "name": "ipython",
    "version": 3
   },
   "file_extension": ".py",
   "mimetype": "text/x-python",
   "name": "python",
   "nbconvert_exporter": "python",
   "pygments_lexer": "ipython3",
   "version": "3.10.4"
  }
 },
 "nbformat": 4,
 "nbformat_minor": 5
}
